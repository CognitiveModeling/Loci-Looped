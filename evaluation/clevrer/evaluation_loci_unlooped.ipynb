{
 "cells": [
  {
   "cell_type": "code",
   "execution_count": 2,
   "metadata": {},
   "outputs": [],
   "source": [
    "import pandas as pd\n",
    "import os"
   ]
  },
  {
   "cell_type": "markdown",
   "metadata": {},
   "source": [
    "# Data Loading"
   ]
  },
  {
   "cell_type": "code",
   "execution_count": 3,
   "metadata": {},
   "outputs": [],
   "source": [
    "# set path to resutls files\n",
    "path = '../../out/pretrained/clevrer/loci_unlooped/results/net_loci_unlooped'\n",
    "\n",
    "# load pkl file with results\n",
    "df = pd.read_pickle(os.path.join(path, 'blackout_metric_average.pkl'))"
   ]
  },
  {
   "cell_type": "code",
   "execution_count": 4,
   "metadata": {},
   "outputs": [
    {
     "name": "stdout",
     "output_type": "stream",
     "text": [
      "msecomplete_average: 13.490\n",
      "msecomplete_std: 10.810\n",
      "\n",
      "mseblackout_average: 28.232\n",
      "mseblackout_std: 7.041\n",
      "\n",
      "msevisible_average: 9.688\n",
      "msevisible_std: 7.981\n",
      "\n",
      "ssimcomplete_average: 0.829\n",
      "ssimcomplete_std: 0.096\n",
      "\n",
      "ssimblackout_average: 0.709\n",
      "ssimblackout_std: 0.055\n",
      "\n",
      "ssimvisible_average: 0.860\n",
      "ssimvisible_std: 0.078\n",
      "\n",
      "psnrcomplete_average: 26.774\n",
      "psnrcomplete_std: 4.724\n",
      "\n",
      "psnrblackout_average: 21.757\n",
      "psnrblackout_std: 1.126\n",
      "\n",
      "psnrvisible_average: 28.068\n",
      "psnrvisible_std: 4.425\n",
      "\n",
      "percept_distcomplete_average: 0.300\n",
      "percept_distcomplete_std: 0.138\n",
      "\n",
      "percept_distblackout_average: 0.474\n",
      "percept_distblackout_std: 0.053\n",
      "\n",
      "percept_distvisible_average: 0.255\n",
      "percept_distvisible_std: 0.116\n",
      "\n",
      "aricomplete_average: 0.365\n",
      "aricomplete_std: 0.334\n",
      "\n",
      "ariblackout_average: -0.022\n",
      "ariblackout_std: 0.038\n",
      "\n",
      "arivisible_average: 0.465\n",
      "arivisible_std: 0.302\n",
      "\n",
      "faricomplete_average: 0.305\n",
      "faricomplete_std: 0.281\n",
      "\n",
      "fariblackout_average: 0.018\n",
      "fariblackout_std: 0.049\n",
      "\n",
      "farivisible_average: 0.378\n",
      "farivisible_std: 0.269\n",
      "\n",
      "mioucomplete_average: 0.163\n",
      "mioucomplete_std: 0.142\n",
      "\n",
      "mioublackout_average: 0.012\n",
      "mioublackout_std: 0.015\n",
      "\n",
      "miouvisible_average: 0.202\n",
      "miouvisible_std: 0.134\n",
      "\n",
      "apcomplete_average: 0.289\n",
      "apcomplete_std: 0.295\n",
      "\n",
      "apblackout_average: 0.000\n",
      "apblackout_std: 0.006\n",
      "\n",
      "apvisible_average: 0.363\n",
      "apvisible_std: 0.287\n",
      "\n",
      "arcomplete_average: 0.301\n",
      "arcomplete_std: 0.329\n",
      "\n",
      "arblackout_average: 0.000\n",
      "arblackout_std: 0.007\n",
      "\n",
      "arvisible_average: 0.378\n",
      "arvisible_std: 0.327\n",
      "\n",
      "blackoutcomplete_average: 0.205\n",
      "blackoutcomplete_std: 0.404\n",
      "\n",
      "blackoutblackout_average: 1.000\n",
      "blackoutblackout_std: 0.000\n",
      "\n",
      "blackoutvisible_average: 0.000\n",
      "blackoutvisible_std: 0.000\n",
      "\n"
     ]
    }
   ],
   "source": [
    "for key,value in df.items():\n",
    "    print(f\"{key}: {value:.3f}\")\n",
    "    if 'std' in key:\n",
    "        print('')"
   ]
  },
  {
   "cell_type": "code",
   "execution_count": null,
   "metadata": {},
   "outputs": [],
   "source": []
  }
 ],
 "metadata": {
  "kernelspec": {
   "display_name": "loci23",
   "language": "python",
   "name": "python3"
  },
  "language_info": {
   "codemirror_mode": {
    "name": "ipython",
    "version": 3
   },
   "file_extension": ".py",
   "mimetype": "text/x-python",
   "name": "python",
   "nbconvert_exporter": "python",
   "pygments_lexer": "ipython3",
   "version": "3.9.13"
  }
 },
 "nbformat": 4,
 "nbformat_minor": 2
}
