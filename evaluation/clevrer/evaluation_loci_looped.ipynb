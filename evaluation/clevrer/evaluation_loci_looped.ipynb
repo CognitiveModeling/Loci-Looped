{
 "cells": [
  {
   "cell_type": "code",
   "execution_count": 1,
   "metadata": {},
   "outputs": [],
   "source": [
    "import pandas as pd\n",
    "import os"
   ]
  },
  {
   "cell_type": "markdown",
   "metadata": {},
   "source": [
    "# Data Loading"
   ]
  },
  {
   "cell_type": "code",
   "execution_count": 2,
   "metadata": {},
   "outputs": [],
   "source": [
    "# set path to resutls files\n",
    "path = '../../out/pretrained/clevrer/loci_looped/results/net_loci_looped'\n",
    "\n",
    "# load pkl file with results\n",
    "df = pd.read_pickle(os.path.join(path, 'blackout_metric_average.pkl'))"
   ]
  },
  {
   "cell_type": "code",
   "execution_count": 3,
   "metadata": {},
   "outputs": [
    {
     "name": "stdout",
     "output_type": "stream",
     "text": [
      "msecomplete_average: 1.281\n",
      "msecomplete_std: 1.445\n",
      "\n",
      "mseblackout_average: 1.724\n",
      "mseblackout_std: 1.611\n",
      "\n",
      "msevisible_average: 1.172\n",
      "msevisible_std: 1.379\n",
      "\n",
      "ssimcomplete_average: 0.963\n",
      "ssimcomplete_std: 0.020\n",
      "\n",
      "ssimblackout_average: 0.954\n",
      "ssimblackout_std: 0.023\n",
      "\n",
      "ssimvisible_average: 0.965\n",
      "ssimvisible_std: 0.018\n",
      "\n",
      "psnrcomplete_average: 35.934\n",
      "psnrcomplete_std: 2.344\n",
      "\n",
      "psnrblackout_average: 34.605\n",
      "psnrblackout_std: 2.415\n",
      "\n",
      "psnrvisible_average: 36.260\n",
      "psnrvisible_std: 2.208\n",
      "\n",
      "percept_distcomplete_average: 0.106\n",
      "percept_distcomplete_std: 0.032\n",
      "\n",
      "percept_distblackout_average: 0.114\n",
      "percept_distblackout_std: 0.033\n",
      "\n",
      "percept_distvisible_average: 0.104\n",
      "percept_distvisible_std: 0.031\n",
      "\n",
      "aricomplete_average: 0.874\n",
      "aricomplete_std: 0.065\n",
      "\n",
      "ariblackout_average: 0.861\n",
      "ariblackout_std: 0.072\n",
      "\n",
      "arivisible_average: 0.878\n",
      "arivisible_std: 0.062\n",
      "\n",
      "faricomplete_average: 0.803\n",
      "faricomplete_std: 0.091\n",
      "\n",
      "fariblackout_average: 0.779\n",
      "fariblackout_std: 0.106\n",
      "\n",
      "farivisible_average: 0.809\n",
      "farivisible_std: 0.086\n",
      "\n",
      "mioucomplete_average: 0.429\n",
      "mioucomplete_std: 0.048\n",
      "\n",
      "mioublackout_average: 0.420\n",
      "mioublackout_std: 0.052\n",
      "\n",
      "miouvisible_average: 0.431\n",
      "miouvisible_std: 0.047\n",
      "\n",
      "apcomplete_average: 0.647\n",
      "apcomplete_std: 0.124\n",
      "\n",
      "apblackout_average: 0.621\n",
      "apblackout_std: 0.136\n",
      "\n",
      "apvisible_average: 0.654\n",
      "apvisible_std: 0.120\n",
      "\n",
      "arcomplete_average: 0.915\n",
      "arcomplete_std: 0.140\n",
      "\n",
      "arblackout_average: 0.880\n",
      "arblackout_std: 0.162\n",
      "\n",
      "arvisible_average: 0.924\n",
      "arvisible_std: 0.132\n",
      "\n",
      "blackoutcomplete_average: 0.197\n",
      "blackoutcomplete_std: 0.398\n",
      "\n",
      "blackoutblackout_average: 1.000\n",
      "blackoutblackout_std: 0.000\n",
      "\n",
      "blackoutvisible_average: 0.000\n",
      "blackoutvisible_std: 0.000\n",
      "\n"
     ]
    }
   ],
   "source": [
    "for key,value in df.items():\n",
    "    print(f\"{key}: {value:.3f}\")\n",
    "    if 'std' in key:\n",
    "        print('')"
   ]
  }
 ],
 "metadata": {
  "kernelspec": {
   "display_name": "loci23",
   "language": "python",
   "name": "python3"
  },
  "language_info": {
   "codemirror_mode": {
    "name": "ipython",
    "version": 3
   },
   "file_extension": ".py",
   "mimetype": "text/x-python",
   "name": "python",
   "nbconvert_exporter": "python",
   "pygments_lexer": "ipython3",
   "version": "3.9.13"
  }
 },
 "nbformat": 4,
 "nbformat_minor": 2
}
