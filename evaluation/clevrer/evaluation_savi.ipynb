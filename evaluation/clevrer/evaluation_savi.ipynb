{
 "cells": [
  {
   "cell_type": "code",
   "execution_count": 1,
   "metadata": {},
   "outputs": [],
   "source": [
    "import pandas as pd\n",
    "import os"
   ]
  },
  {
   "cell_type": "markdown",
   "metadata": {},
   "source": [
    "# Data Loading"
   ]
  },
  {
   "cell_type": "code",
   "execution_count": 2,
   "metadata": {},
   "outputs": [],
   "source": [
    "# set path to resutls files\n",
    "path = '../../out/pretrained/clevrer/savi/results/net_savi'\n",
    "\n",
    "# load pkl file with results\n",
    "df = pd.read_pickle(os.path.join(path, 'blackout_metric_average.pkl'))"
   ]
  },
  {
   "cell_type": "code",
   "execution_count": 3,
   "metadata": {},
   "outputs": [
    {
     "name": "stdout",
     "output_type": "stream",
     "text": [
      "msecomplete_average: 3.352\n",
      "msecomplete_std: 5.657\n",
      "\n",
      "mseblackout_average: 13.360\n",
      "mseblackout_std: 5.790\n",
      "\n",
      "msevisible_average: 0.849\n",
      "msevisible_std: 0.543\n",
      "\n",
      "ssimcomplete_average: 0.934\n",
      "ssimcomplete_std: 0.065\n",
      "\n",
      "ssimblackout_average: 0.814\n",
      "ssimblackout_std: 0.052\n",
      "\n",
      "ssimvisible_average: 0.964\n",
      "ssimvisible_std: 0.009\n",
      "\n",
      "psnrcomplete_average: 35.079\n",
      "psnrcomplete_std: 5.418\n",
      "\n",
      "psnrblackout_average: 25.306\n",
      "psnrblackout_std: 2.048\n",
      "\n",
      "psnrvisible_average: 37.524\n",
      "psnrvisible_std: 2.404\n",
      "\n",
      "percept_distcomplete_average: 0.249\n",
      "percept_distcomplete_std: 0.114\n",
      "\n",
      "percept_distblackout_average: 0.468\n",
      "percept_distblackout_std: 0.035\n",
      "\n",
      "percept_distvisible_average: 0.194\n",
      "percept_distvisible_std: 0.029\n",
      "\n",
      "aricomplete_average: 0.456\n",
      "aricomplete_std: 0.266\n",
      "\n",
      "ariblackout_average: -0.002\n",
      "ariblackout_std: 0.009\n",
      "\n",
      "arivisible_average: 0.571\n",
      "arivisible_std: 0.152\n",
      "\n",
      "faricomplete_average: 0.726\n",
      "faricomplete_std: 0.377\n",
      "\n",
      "fariblackout_average: 0.009\n",
      "fariblackout_std: 0.094\n",
      "\n",
      "farivisible_average: 0.905\n",
      "farivisible_std: 0.120\n",
      "\n",
      "mioucomplete_average: 0.285\n",
      "mioucomplete_std: 0.144\n",
      "\n",
      "mioublackout_average: 0.005\n",
      "mioublackout_std: 0.003\n",
      "\n",
      "miouvisible_average: 0.355\n",
      "miouvisible_std: 0.038\n",
      "\n",
      "apcomplete_average: 0.248\n",
      "apcomplete_std: 0.196\n",
      "\n",
      "apblackout_average: 0.000\n",
      "apblackout_std: 0.011\n",
      "\n",
      "apvisible_average: 0.309\n",
      "apvisible_std: 0.170\n",
      "\n",
      "arcomplete_average: 0.374\n",
      "arcomplete_std: 0.302\n",
      "\n",
      "arblackout_average: 0.000\n",
      "arblackout_std: 0.005\n",
      "\n",
      "arvisible_average: 0.467\n",
      "arvisible_std: 0.265\n",
      "\n",
      "blackoutcomplete_average: 0.200\n",
      "blackoutcomplete_std: 0.400\n",
      "\n",
      "blackoutblackout_average: 1.000\n",
      "blackoutblackout_std: 0.000\n",
      "\n",
      "blackoutvisible_average: 0.000\n",
      "blackoutvisible_std: 0.000\n",
      "\n"
     ]
    }
   ],
   "source": [
    "for key,value in df.items():\n",
    "    print(f\"{key}: {value:.3f}\")\n",
    "    if 'std' in key:\n",
    "        print('')"
   ]
  },
  {
   "cell_type": "code",
   "execution_count": null,
   "metadata": {},
   "outputs": [],
   "source": []
  }
 ],
 "metadata": {
  "kernelspec": {
   "display_name": "loci23",
   "language": "python",
   "name": "python3"
  },
  "language_info": {
   "codemirror_mode": {
    "name": "ipython",
    "version": 3
   },
   "file_extension": ".py",
   "mimetype": "text/x-python",
   "name": "python",
   "nbconvert_exporter": "python",
   "pygments_lexer": "ipython3",
   "version": "3.9.13"
  }
 },
 "nbformat": 4,
 "nbformat_minor": 2
}
