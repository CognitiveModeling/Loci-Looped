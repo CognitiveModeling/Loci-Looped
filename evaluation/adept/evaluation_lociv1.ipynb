{
 "cells": [
  {
   "cell_type": "code",
   "execution_count": 1,
   "metadata": {},
   "outputs": [],
   "source": [
    "import pandas as pd\n",
    "import matplotlib.pyplot as plt\n",
    "import numpy as np\n",
    "import seaborn as sns\n",
    "import warnings\n",
    "import scipy.stats as stats\n",
    "import os\n",
    "\n",
    "warnings.simplefilter(action='ignore', category=FutureWarning)\n",
    "pd.options.mode.chained_assignment = None \n",
    "plt.style.use('ggplot')\n",
    "sns.color_palette(\"Paired\");\n",
    "sns.set_theme();"
   ]
  },
  {
   "cell_type": "markdown",
   "metadata": {},
   "source": [
    "# Data Loading"
   ]
  },
  {
   "cell_type": "code",
   "execution_count": 11,
   "metadata": {},
   "outputs": [],
   "source": [
    "# setting path to results folder\n",
    "root_path = '../../out/pretrained/adept/loci_v1/results'\n",
    "\n",
    "# list all folders in root path that don't stat with a dot\n",
    "nets = [f for f in os.listdir(root_path) if not f.startswith('.')]\n",
    "\n",
    "# read pickle file\n",
    "tf = pd.DataFrame()\n",
    "sf = pd.DataFrame()\n",
    "af = pd.DataFrame()\n",
    "\n",
    "# load statistics files from nets\n",
    "for net in nets:\n",
    "    path = os.path.join(root_path, net, 'surprise', 'statistics',)\n",
    "    with open(os.path.join(path, 'trialframe.csv'), 'rb') as f:\n",
    "        tf_temp = pd.read_csv(f, index_col=0)\n",
    "    tf_temp['net'] = net\n",
    "    tf = pd.concat([tf,tf_temp])\n",
    "\n",
    "    with open(os.path.join(path, 'slotframe.csv'), 'rb') as f:\n",
    "        sf_temp = pd.read_csv(f, index_col=0)\n",
    "    sf_temp['net'] = net\n",
    "    sf = pd.concat([sf,sf_temp])\n",
    "\n",
    "    with open(os.path.join(path, 'accframe.csv'), 'rb') as f:\n",
    "        af_temp = pd.read_csv(f, index_col=0)\n",
    "    af_temp['net'] = net\n",
    "    af = pd.concat([af,af_temp])\n",
    "\n",
    "# cast variables\n",
    "sf['visible'] = sf['visible'].astype(bool)\n",
    "sf['bound'] = sf['bound'].astype(bool)\n",
    "sf['occluder'] = sf['occluder'].astype(bool)\n",
    "sf['inimage'] = sf['inimage'].astype(bool)\n",
    "sf['vanishing'] = sf['vanishing'].astype(bool)\n",
    "sf['alpha_pos'] = 1-sf['alpha_pos']\n",
    "sf['alpha_ges'] = 1-sf['alpha_ges']\n",
    "\n",
    "# scale to percentage\n",
    "sf['TE'] = sf['TE'] * 100\n",
    "\n",
    "# add surprise as dummy code\n",
    "tf['control'] = [('control' in set) for set in tf['set']]\n",
    "sf['control'] = [('control' in set)  for set in sf['set']]"
   ]
  },
  {
   "cell_type": "markdown",
   "metadata": {},
   "source": [
    "# Calculate Tracking Error (TE)"
   ]
  },
  {
   "cell_type": "code",
   "execution_count": 12,
   "metadata": {},
   "outputs": [
    {
     "name": "stdout",
     "output_type": "stream",
     "text": [
      "Tracking Error when visible: M: 12.5 , STD: 10.3, Count: 69\n",
      "Tracking Error when occluded: M: 16.2 , STD: 7.48, Count: 34\n"
     ]
    }
   ],
   "source": [
    "grouping = (sf.inimage & sf.bound & ~sf.occluder & sf.control)\n",
    "\n",
    "def get_stats(col):\n",
    "    return f' M: {col.mean():.3} , STD: {col.std():.3}, Count: {col.count()}'\n",
    "\n",
    "# When Visible\n",
    "temp = sf[grouping & sf.visible]\n",
    "temp = temp.groupby(['net', 'set', 'evalmode', 'scene', 'slot']).mean()\n",
    "print(f'Tracking Error when visible:' + get_stats(temp['TE']))\n",
    "\n",
    "# When Occluded\n",
    "temp = sf[grouping & ~sf.visible]\n",
    "temp = temp.groupby(['net', 'set', 'evalmode', 'scene', 'slot']).mean()\n",
    "print(f'Tracking Error when occluded:' + get_stats(temp['TE']))"
   ]
  },
  {
   "cell_type": "markdown",
   "metadata": {},
   "source": [
    "# Calculate Succesfull Trackings (TE)"
   ]
  },
  {
   "cell_type": "code",
   "execution_count": 13,
   "metadata": {},
   "outputs": [
    {
     "data": {
      "text/html": [
       "<div>\n",
       "<style scoped>\n",
       "    .dataframe tbody tr th:only-of-type {\n",
       "        vertical-align: middle;\n",
       "    }\n",
       "\n",
       "    .dataframe tbody tr th {\n",
       "        vertical-align: top;\n",
       "    }\n",
       "\n",
       "    .dataframe thead th {\n",
       "        text-align: right;\n",
       "    }\n",
       "</style>\n",
       "<table border=\"1\" class=\"dataframe\">\n",
       "  <thead>\n",
       "    <tr style=\"text-align: right;\">\n",
       "      <th></th>\n",
       "      <th>set</th>\n",
       "      <th>evalmode</th>\n",
       "      <th>tracked_pos</th>\n",
       "      <th>tracked_neg</th>\n",
       "      <th>tracked_pos_pro</th>\n",
       "      <th>tracked_neg_pro</th>\n",
       "    </tr>\n",
       "  </thead>\n",
       "  <tbody>\n",
       "    <tr>\n",
       "      <th>0</th>\n",
       "      <td>_control</td>\n",
       "      <td>open</td>\n",
       "      <td>63</td>\n",
       "      <td>101</td>\n",
       "      <td>0.384146</td>\n",
       "      <td>0.615854</td>\n",
       "    </tr>\n",
       "  </tbody>\n",
       "</table>\n",
       "</div>"
      ],
      "text/plain": [
       "        set evalmode  tracked_pos  tracked_neg  tracked_pos_pro  \\\n",
       "0  _control     open           63          101         0.384146   \n",
       "\n",
       "   tracked_neg_pro  \n",
       "0         0.615854  "
      ]
     },
     "execution_count": 13,
     "metadata": {},
     "output_type": "execute_result"
    }
   ],
   "source": [
    "# succesfull trackings: In the last visible moment of the target, the slot was less than 10% away from the target\n",
    "# determine last visible frame numeric\n",
    "grouping_factors = ['net','set','evalmode','scene','slot']\n",
    "ff = sf[sf.visible & sf.bound & sf.inimage].groupby(grouping_factors).max()\n",
    "ff.rename(columns = {'frame':'last_visible'}, inplace = True)\n",
    "sf = sf.merge(ff[['last_visible']], on=grouping_factors, how='left')\n",
    "\n",
    "# same for first bound frame\n",
    "ff = sf[sf.visible & sf.bound & sf.inimage].groupby(grouping_factors).min()\n",
    "ff.rename(columns = {'frame':'first_visible'}, inplace = True)\n",
    "sf = sf.merge(ff[['first_visible']], on=grouping_factors, how='left')\n",
    "\n",
    "# add dummy variable to sf\n",
    "sf['last_visible'] = (sf['last_visible'] == sf['frame'])\n",
    "\n",
    "# extract the trials where the target was last visible and threshold the TE\n",
    "ff = sf[sf['last_visible']] \n",
    "ff['tracked_pos'] = (ff['TE'] < 10)\n",
    "ff['tracked_neg'] = (ff['TE'] >= 10)\n",
    "\n",
    "# fill NaN with 0\n",
    "sf = sf.merge(ff[grouping_factors + ['tracked_pos', 'tracked_neg']], on=grouping_factors, how='left')\n",
    "sf['tracked_pos'].fillna(False, inplace=True)\n",
    "sf['tracked_neg'].fillna(False, inplace=True)\n",
    "\n",
    "# Aggreagte over all scenes\n",
    "temp = sf[(sf['frame']== 1) & ~sf.occluder & sf.control]\n",
    "temp = temp.groupby(['set', 'evalmode']).sum()\n",
    "temp = temp[['tracked_pos', 'tracked_neg']]\n",
    "temp = temp.reset_index()\n",
    "\n",
    "temp['tracked_pos_pro'] = temp['tracked_pos'] / (temp['tracked_pos'] + temp['tracked_neg'])\n",
    "temp['tracked_neg_pro'] = temp['tracked_neg'] / (temp['tracked_pos'] + temp['tracked_neg'])\n",
    "\n",
    "temp"
   ]
  },
  {
   "cell_type": "markdown",
   "metadata": {},
   "source": [
    "# Mostly Tracked stats"
   ]
  },
  {
   "cell_type": "code",
   "execution_count": 14,
   "metadata": {},
   "outputs": [
    {
     "data": {
      "image/png": "[encoded data removed]",
      "text/plain": [
       "<Figure size 640x480 with 1 Axes>"
      ]
     },
     "metadata": {},
     "output_type": "display_data"
    }
   ],
   "source": [
    "temp = af[af.index == 'OVERALL']\n",
    "temp['mostly_tracked'] = temp['mostly_tracked'] / temp['num_unique_objects']\n",
    "temp['partially_tracked'] = temp['partially_tracked'] / temp['num_unique_objects']\n",
    "temp['mostly_lost'] = temp['mostly_lost'] / temp['num_unique_objects']\n",
    "g = temp[['mostly_tracked', 'partially_tracked', 'mostly_lost','set']].set_index(['set']).groupby(['set']).mean().plot(kind='bar', stacked=True);"
   ]
  },
  {
   "cell_type": "markdown",
   "metadata": {},
   "source": [
    "# MOTA "
   ]
  },
  {
   "cell_type": "code",
   "execution_count": 15,
   "metadata": {},
   "outputs": [
    {
     "data": {
      "text/html": [
       "<div>\n",
       "<style scoped>\n",
       "    .dataframe tbody tr th:only-of-type {\n",
       "        vertical-align: middle;\n",
       "    }\n",
       "\n",
       "    .dataframe tbody tr th {\n",
       "        vertical-align: top;\n",
       "    }\n",
       "\n",
       "    .dataframe thead th {\n",
       "        text-align: right;\n",
       "    }\n",
       "</style>\n",
       "<table border=\"1\" class=\"dataframe\">\n",
       "  <thead>\n",
       "    <tr style=\"text-align: right;\">\n",
       "      <th></th>\n",
       "      <th>idf1</th>\n",
       "      <th>idp</th>\n",
       "      <th>idr</th>\n",
       "      <th>recall</th>\n",
       "      <th>precision</th>\n",
       "      <th>num_unique_objects</th>\n",
       "      <th>mostly_tracked</th>\n",
       "      <th>partially_tracked</th>\n",
       "      <th>mostly_lost</th>\n",
       "      <th>num_false_positives</th>\n",
       "      <th>num_misses</th>\n",
       "      <th>num_switches</th>\n",
       "      <th>num_fragmentations</th>\n",
       "      <th>mota</th>\n",
       "      <th>motp</th>\n",
       "      <th>num_transfer</th>\n",
       "      <th>num_ascend</th>\n",
       "      <th>num_migrate</th>\n",
       "    </tr>\n",
       "    <tr>\n",
       "      <th>set</th>\n",
       "      <th></th>\n",
       "      <th></th>\n",
       "      <th></th>\n",
       "      <th></th>\n",
       "      <th></th>\n",
       "      <th></th>\n",
       "      <th></th>\n",
       "      <th></th>\n",
       "      <th></th>\n",
       "      <th></th>\n",
       "      <th></th>\n",
       "      <th></th>\n",
       "      <th></th>\n",
       "      <th></th>\n",
       "      <th></th>\n",
       "      <th></th>\n",
       "      <th></th>\n",
       "      <th></th>\n",
       "    </tr>\n",
       "  </thead>\n",
       "  <tbody>\n",
       "    <tr>\n",
       "      <th>_control</th>\n",
       "      <td>0.395257</td>\n",
       "      <td>0.264136</td>\n",
       "      <td>0.804905</td>\n",
       "      <td>0.901508</td>\n",
       "      <td>0.298226</td>\n",
       "      <td>86.0</td>\n",
       "      <td>63.666667</td>\n",
       "      <td>22.000000</td>\n",
       "      <td>0.333333</td>\n",
       "      <td>32836.000000</td>\n",
       "      <td>1443.000000</td>\n",
       "      <td>90.333333</td>\n",
       "      <td>14.666667</td>\n",
       "      <td>-1.345869</td>\n",
       "      <td>0.068371</td>\n",
       "      <td>25.0</td>\n",
       "      <td>65.666667</td>\n",
       "      <td>1.000000</td>\n",
       "    </tr>\n",
       "    <tr>\n",
       "      <th>_surprise</th>\n",
       "      <td>0.390419</td>\n",
       "      <td>0.257030</td>\n",
       "      <td>0.823463</td>\n",
       "      <td>0.896856</td>\n",
       "      <td>0.281073</td>\n",
       "      <td>33.0</td>\n",
       "      <td>24.333333</td>\n",
       "      <td>8.333333</td>\n",
       "      <td>0.333333</td>\n",
       "      <td>11238.333333</td>\n",
       "      <td>487.666667</td>\n",
       "      <td>24.000000</td>\n",
       "      <td>6.333333</td>\n",
       "      <td>-1.485195</td>\n",
       "      <td>0.068592</td>\n",
       "      <td>9.0</td>\n",
       "      <td>15.000000</td>\n",
       "      <td>0.333333</td>\n",
       "    </tr>\n",
       "  </tbody>\n",
       "</table>\n",
       "</div>"
      ],
      "text/plain": [
       "               idf1       idp       idr    recall  precision  \\\n",
       "set                                                            \n",
       "_control   0.395257  0.264136  0.804905  0.901508   0.298226   \n",
       "_surprise  0.390419  0.257030  0.823463  0.896856   0.281073   \n",
       "\n",
       "           num_unique_objects  mostly_tracked  partially_tracked  mostly_lost  \\\n",
       "set                                                                             \n",
       "_control                 86.0       63.666667          22.000000     0.333333   \n",
       "_surprise                33.0       24.333333           8.333333     0.333333   \n",
       "\n",
       "           num_false_positives   num_misses  num_switches  num_fragmentations  \\\n",
       "set                                                                             \n",
       "_control          32836.000000  1443.000000     90.333333           14.666667   \n",
       "_surprise         11238.333333   487.666667     24.000000            6.333333   \n",
       "\n",
       "               mota      motp  num_transfer  num_ascend  num_migrate  \n",
       "set                                                                   \n",
       "_control  -1.345869  0.068371          25.0   65.666667     1.000000  \n",
       "_surprise -1.485195  0.068592           9.0   15.000000     0.333333  "
      ]
     },
     "execution_count": 15,
     "metadata": {},
     "output_type": "execute_result"
    }
   ],
   "source": [
    "af[af.index == 'OVERALL'].groupby(['set']).mean()"
   ]
  }
 ],
 "metadata": {
  "kernelspec": {
   "display_name": "loci23",
   "language": "python",
   "name": "python3"
  },
  "language_info": {
   "codemirror_mode": {
    "name": "ipython",
    "version": 3
   },
   "file_extension": ".py",
   "mimetype": "text/x-python",
   "name": "python",
   "nbconvert_exporter": "python",
   "pygments_lexer": "ipython3",
   "version": "3.9.13"
  }
 },
 "nbformat": 4,
 "nbformat_minor": 2
}
