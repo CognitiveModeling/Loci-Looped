{
 "cells": [
  {
   "cell_type": "code",
   "execution_count": 1,
   "metadata": {},
   "outputs": [],
   "source": [
    "import pandas as pd\n",
    "import matplotlib.pyplot as plt\n",
    "import numpy as np\n",
    "import seaborn as sns\n",
    "import warnings\n",
    "import scipy.stats as stats\n",
    "import os\n",
    "\n",
    "warnings.simplefilter(action='ignore', category=FutureWarning)\n",
    "pd.options.mode.chained_assignment = None \n",
    "plt.style.use('ggplot')\n",
    "sns.color_palette(\"Paired\");\n",
    "sns.set_theme();"
   ]
  },
  {
   "cell_type": "markdown",
   "metadata": {},
   "source": [
    "# Data Loading"
   ]
  },
  {
   "cell_type": "code",
   "execution_count": 2,
   "metadata": {},
   "outputs": [],
   "source": [
    "# setting path to results folder\n",
    "root_path = '../../../out/pretrained/adept_ablations/recon'\n",
    "\n",
    "# list all folders in root path that don't stat with a dot\n",
    "nets = ['recon']\n",
    "\n",
    "# read pickle file\n",
    "tf = pd.DataFrame()\n",
    "sf = pd.DataFrame()\n",
    "af = pd.DataFrame()\n",
    "\n",
    "# load statistics files from nets\n",
    "for net in nets:\n",
    "    path = os.path.join(root_path, net, 'results')\n",
    "    with open(os.path.join(path, 'trialframe.csv'), 'rb') as f:\n",
    "        tf_temp = pd.read_csv(f, index_col=0)\n",
    "    tf_temp['net'] = net\n",
    "    tf = pd.concat([tf,tf_temp])\n",
    "\n",
    "    with open(os.path.join(path, 'slotframe.csv'), 'rb') as f:\n",
    "        sf_temp = pd.read_csv(f, index_col=0)\n",
    "    sf_temp['net'] = net\n",
    "    sf = pd.concat([sf,sf_temp])\n",
    "\n",
    "    with open(os.path.join(path, 'accframe.csv'), 'rb') as f:\n",
    "        af_temp = pd.read_csv(f, index_col=0)\n",
    "    af_temp['net'] = net\n",
    "    af = pd.concat([af,af_temp])\n",
    "\n",
    "# cast variables\n",
    "sf['visible'] = sf['visible'].astype(bool)\n",
    "sf['bound'] = sf['bound'].astype(bool)\n",
    "sf['occluder'] = sf['occluder'].astype(bool)\n",
    "sf['inimage'] = sf['inimage'].astype(bool)\n",
    "sf['vanishing'] = sf['vanishing'].astype(bool)\n",
    "sf['alpha_pos'] = 1-sf['alpha_pos']\n",
    "sf['alpha_ges'] = 1-sf['alpha_ges']\n",
    "\n",
    "# scale to percentage\n",
    "sf['TE'] = sf['TE'] * 100\n",
    "\n",
    "# add surprise as dummy code\n",
    "tf['control'] = [('control' in set) for set in tf['set']]\n",
    "sf['control'] = [('control' in set)  for set in sf['set']]"
   ]
  },
  {
   "cell_type": "markdown",
   "metadata": {},
   "source": [
    "# Calculate Tracking Error (TE)"
   ]
  },
  {
   "cell_type": "code",
   "execution_count": 3,
   "metadata": {},
   "outputs": [
    {
     "name": "stdout",
     "output_type": "stream",
     "text": [
      "Tracking Error when visible: M: 2.95 , STD: 4.8, Count: 1686\n",
      "Tracking Error when occluded: M: 2.54 , STD: 2.52, Count: 477\n"
     ]
    }
   ],
   "source": [
    "grouping = (sf.inimage & sf.bound & ~sf.occluder & sf.control)\n",
    "\n",
    "def get_stats(col):\n",
    "    return f' M: {col.mean():.3} , STD: {col.std():.3}, Count: {col.count()}'\n",
    "\n",
    "# When Visible\n",
    "temp = sf[grouping & sf.visible]\n",
    "print(f'Tracking Error when visible:' + get_stats(temp['TE']))\n",
    "\n",
    "# When Occluded\n",
    "temp = sf[grouping & ~sf.visible]\n",
    "print(f'Tracking Error when occluded:' + get_stats(temp['TE']))"
   ]
  },
  {
   "cell_type": "markdown",
   "metadata": {},
   "source": [
    "# Calculate Succesfull Trackings (TE)"
   ]
  },
  {
   "cell_type": "code",
   "execution_count": 4,
   "metadata": {},
   "outputs": [
    {
     "data": {
      "text/html": [
       "<div>\n",
       "<style scoped>\n",
       "    .dataframe tbody tr th:only-of-type {\n",
       "        vertical-align: middle;\n",
       "    }\n",
       "\n",
       "    .dataframe tbody tr th {\n",
       "        vertical-align: top;\n",
       "    }\n",
       "\n",
       "    .dataframe thead th {\n",
       "        text-align: right;\n",
       "    }\n",
       "</style>\n",
       "<table border=\"1\" class=\"dataframe\">\n",
       "  <thead>\n",
       "    <tr style=\"text-align: right;\">\n",
       "      <th></th>\n",
       "      <th>set</th>\n",
       "      <th>evalmode</th>\n",
       "      <th>tracked_pos</th>\n",
       "      <th>tracked_neg</th>\n",
       "      <th>tracked_pos_pro</th>\n",
       "      <th>tracked_neg_pro</th>\n",
       "    </tr>\n",
       "  </thead>\n",
       "  <tbody>\n",
       "    <tr>\n",
       "      <th>0</th>\n",
       "      <td>control</td>\n",
       "      <td>open</td>\n",
       "      <td>37</td>\n",
       "      <td>9</td>\n",
       "      <td>0.804348</td>\n",
       "      <td>0.195652</td>\n",
       "    </tr>\n",
       "  </tbody>\n",
       "</table>\n",
       "</div>"
      ],
      "text/plain": [
       "       set evalmode  tracked_pos  tracked_neg  tracked_pos_pro  \\\n",
       "0  control     open           37            9         0.804348   \n",
       "\n",
       "   tracked_neg_pro  \n",
       "0         0.195652  "
      ]
     },
     "execution_count": 4,
     "metadata": {},
     "output_type": "execute_result"
    }
   ],
   "source": [
    "# succesfull trackings: In the last visible moment of the target, the slot was less than 10% away from the target\n",
    "# determine last visible frame numeric\n",
    "grouping_factors = ['net','set','evalmode','scene','slot']\n",
    "ff = sf[sf.visible & sf.bound & sf.inimage].groupby(grouping_factors).max()\n",
    "ff.rename(columns = {'frame':'last_visible'}, inplace = True)\n",
    "sf = sf.merge(ff[['last_visible']], on=grouping_factors, how='left')\n",
    "\n",
    "# same for first bound frame\n",
    "ff = sf[sf.visible & sf.bound & sf.inimage].groupby(grouping_factors).min()\n",
    "ff.rename(columns = {'frame':'first_visible'}, inplace = True)\n",
    "sf = sf.merge(ff[['first_visible']], on=grouping_factors, how='left')\n",
    "\n",
    "# add dummy variable to sf\n",
    "sf['last_visible'] = (sf['last_visible'] == sf['frame'])\n",
    "\n",
    "# extract the trials where the target was last visible and threshold the TE\n",
    "ff = sf[sf['last_visible']] \n",
    "ff['tracked_pos'] = (ff['TE'] < 10)\n",
    "ff['tracked_neg'] = (ff['TE'] >= 10)\n",
    "\n",
    "# fill NaN with 0\n",
    "sf = sf.merge(ff[grouping_factors + ['tracked_pos', 'tracked_neg']], on=grouping_factors, how='left')\n",
    "sf['tracked_pos'].fillna(False, inplace=True)\n",
    "sf['tracked_neg'].fillna(False, inplace=True)\n",
    "\n",
    "# Aggreagte over all scenes\n",
    "temp = sf[(sf['frame']== 1) & ~sf.occluder & sf.control & (sf.first_visible < 20)]\n",
    "temp = temp.groupby(['set', 'evalmode']).sum()\n",
    "temp = temp[['tracked_pos', 'tracked_neg']]\n",
    "temp = temp.reset_index()\n",
    "\n",
    "temp['tracked_pos_pro'] = temp['tracked_pos'] / (temp['tracked_pos'] + temp['tracked_neg'])\n",
    "temp['tracked_neg_pro'] = temp['tracked_neg'] / (temp['tracked_pos'] + temp['tracked_neg'])\n",
    "\n",
    "temp"
   ]
  },
  {
   "cell_type": "markdown",
   "metadata": {},
   "source": [
    "# Mostly Tracked stats"
   ]
  },
  {
   "cell_type": "code",
   "execution_count": 5,
   "metadata": {},
   "outputs": [
    {
     "data": {
      "image/png": "[encoded data removed]",
      "text/plain": [
       "<Figure size 432x288 with 1 Axes>"
      ]
     },
     "metadata": {
      "needs_background": "light"
     },
     "output_type": "display_data"
    }
   ],
   "source": [
    "temp = af[af.index == 'OVERALL']\n",
    "temp['mostly_tracked'] = temp['mostly_tracked'] / temp['num_unique_objects']\n",
    "temp['partially_tracked'] = temp['partially_tracked'] / temp['num_unique_objects']\n",
    "temp['mostly_lost'] = temp['mostly_lost'] / temp['num_unique_objects']\n",
    "g = temp[['mostly_tracked', 'partially_tracked', 'mostly_lost','set']].set_index(['set']).groupby(['set']).mean().plot(kind='bar', stacked=True);"
   ]
  },
  {
   "cell_type": "markdown",
   "metadata": {},
   "source": [
    "# MOTA "
   ]
  },
  {
   "cell_type": "code",
   "execution_count": 6,
   "metadata": {},
   "outputs": [
    {
     "data": {
      "text/html": [
       "<div>\n",
       "<style scoped>\n",
       "    .dataframe tbody tr th:only-of-type {\n",
       "        vertical-align: middle;\n",
       "    }\n",
       "\n",
       "    .dataframe tbody tr th {\n",
       "        vertical-align: top;\n",
       "    }\n",
       "\n",
       "    .dataframe thead th {\n",
       "        text-align: right;\n",
       "    }\n",
       "</style>\n",
       "<table border=\"1\" class=\"dataframe\">\n",
       "  <thead>\n",
       "    <tr style=\"text-align: right;\">\n",
       "      <th></th>\n",
       "      <th>idf1</th>\n",
       "      <th>idp</th>\n",
       "      <th>idr</th>\n",
       "      <th>recall</th>\n",
       "      <th>precision</th>\n",
       "      <th>num_unique_objects</th>\n",
       "      <th>mostly_tracked</th>\n",
       "      <th>partially_tracked</th>\n",
       "      <th>mostly_lost</th>\n",
       "      <th>num_false_positives</th>\n",
       "      <th>num_misses</th>\n",
       "      <th>num_switches</th>\n",
       "      <th>num_fragmentations</th>\n",
       "      <th>mota</th>\n",
       "      <th>motp</th>\n",
       "      <th>num_transfer</th>\n",
       "      <th>num_ascend</th>\n",
       "      <th>num_migrate</th>\n",
       "    </tr>\n",
       "    <tr>\n",
       "      <th>set</th>\n",
       "      <th></th>\n",
       "      <th></th>\n",
       "      <th></th>\n",
       "      <th></th>\n",
       "      <th></th>\n",
       "      <th></th>\n",
       "      <th></th>\n",
       "      <th></th>\n",
       "      <th></th>\n",
       "      <th></th>\n",
       "      <th></th>\n",
       "      <th></th>\n",
       "      <th></th>\n",
       "      <th></th>\n",
       "      <th></th>\n",
       "      <th></th>\n",
       "      <th></th>\n",
       "      <th></th>\n",
       "    </tr>\n",
       "  </thead>\n",
       "  <tbody>\n",
       "    <tr>\n",
       "      <th>control</th>\n",
       "      <td>0.754576</td>\n",
       "      <td>0.919577</td>\n",
       "      <td>0.639779</td>\n",
       "      <td>0.662855</td>\n",
       "      <td>0.952744</td>\n",
       "      <td>86.0</td>\n",
       "      <td>38.0</td>\n",
       "      <td>18.0</td>\n",
       "      <td>30.0</td>\n",
       "      <td>161.0</td>\n",
       "      <td>1651.0</td>\n",
       "      <td>13.0</td>\n",
       "      <td>28.0</td>\n",
       "      <td>0.627323</td>\n",
       "      <td>0.037094</td>\n",
       "      <td>0.0</td>\n",
       "      <td>12.0</td>\n",
       "      <td>0.0</td>\n",
       "    </tr>\n",
       "    <tr>\n",
       "      <th>surprise</th>\n",
       "      <td>0.790401</td>\n",
       "      <td>0.968750</td>\n",
       "      <td>0.667511</td>\n",
       "      <td>0.667511</td>\n",
       "      <td>0.968750</td>\n",
       "      <td>33.0</td>\n",
       "      <td>13.0</td>\n",
       "      <td>8.0</td>\n",
       "      <td>12.0</td>\n",
       "      <td>34.0</td>\n",
       "      <td>525.0</td>\n",
       "      <td>0.0</td>\n",
       "      <td>11.0</td>\n",
       "      <td>0.645978</td>\n",
       "      <td>0.034979</td>\n",
       "      <td>0.0</td>\n",
       "      <td>0.0</td>\n",
       "      <td>0.0</td>\n",
       "    </tr>\n",
       "  </tbody>\n",
       "</table>\n",
       "</div>"
      ],
      "text/plain": [
       "              idf1       idp       idr    recall  precision  \\\n",
       "set                                                           \n",
       "control   0.754576  0.919577  0.639779  0.662855   0.952744   \n",
       "surprise  0.790401  0.968750  0.667511  0.667511   0.968750   \n",
       "\n",
       "          num_unique_objects  mostly_tracked  partially_tracked  mostly_lost  \\\n",
       "set                                                                            \n",
       "control                 86.0            38.0               18.0         30.0   \n",
       "surprise                33.0            13.0                8.0         12.0   \n",
       "\n",
       "          num_false_positives  num_misses  num_switches  num_fragmentations  \\\n",
       "set                                                                           \n",
       "control                 161.0      1651.0          13.0                28.0   \n",
       "surprise                 34.0       525.0           0.0                11.0   \n",
       "\n",
       "              mota      motp  num_transfer  num_ascend  num_migrate  \n",
       "set                                                                  \n",
       "control   0.627323  0.037094           0.0        12.0          0.0  \n",
       "surprise  0.645978  0.034979           0.0         0.0          0.0  "
      ]
     },
     "execution_count": 6,
     "metadata": {},
     "output_type": "execute_result"
    }
   ],
   "source": [
    "af[af.index == 'OVERALL'].groupby(['set']).mean()"
   ]
  },
  {
   "cell_type": "markdown",
   "metadata": {},
   "source": [
    "# Gate Openings"
   ]
  },
  {
   "cell_type": "code",
   "execution_count": 7,
   "metadata": {},
   "outputs": [
    {
     "name": "stdout",
     "output_type": "stream",
     "text": [
      "Percept gate openings when visible: M: 0.223 , STD: 0.303, Count: 1686\n",
      "Percept gate openings when occluded: M: 0.00995 , STD: 0.0471, Count: 477\n"
     ]
    }
   ],
   "source": [
    "grouping = (sf.inimage & sf.bound & ~sf.occluder & sf.control)\n",
    "temp = sf[grouping & sf.visible]\n",
    "print(f'Percept gate openings when visible:' + get_stats(temp['alpha_pos'] + temp['alpha_ges']))\n",
    "temp = sf[grouping & ~sf.visible]\n",
    "print(f'Percept gate openings when occluded:' + get_stats(temp['alpha_pos'] + temp['alpha_ges']))"
   ]
  },
  {
   "cell_type": "markdown",
   "metadata": {},
   "source": []
  }
 ],
 "metadata": {
  "kernelspec": {
   "display_name": "loci23",
   "language": "python",
   "name": "python3"
  },
  "language_info": {
   "codemirror_mode": {
    "name": "ipython",
    "version": 3
   },
   "file_extension": ".py",
   "mimetype": "text/x-python",
   "name": "python",
   "nbconvert_exporter": "python",
   "pygments_lexer": "ipython3",
   "version": "3.9.16"
  }
 },
 "nbformat": 4,
 "nbformat_minor": 2
}
